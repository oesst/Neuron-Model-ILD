{
 "cells": [
  {
   "cell_type": "code",
   "execution_count": 42,
   "metadata": {},
   "outputs": [
    {
     "data": {
      "image/png": "[encoded data removed]",
      "text/plain": [
       "<matplotlib.figure.Figure at 0x7f31c1ae00f0>"
      ]
     },
     "metadata": {},
     "output_type": "display_data"
    }
   ],
   "source": [
    "import math\n",
    "import matplotlib.pyplot as plt\n",
    "import numpy as np\n",
    "\n",
    "\n",
    "\n",
    "# Differential equation\n",
    "def f(v,g_ex,g_in):\n",
    "    # alpha defines leaking rate\n",
    "    alpha =0.01\n",
    "    # E_ex defines upper saturation limit\n",
    "    E_ex = 1\n",
    "    # E_in defones lower saturation limit\n",
    "    E_in = -0.5\n",
    "    # C_m is the membrane conductance\n",
    "    C_m = 0.005\n",
    "    return (-alpha*v + (E_ex - v)*g_ex + (E_in-v)*g_in)/C_m\n",
    "\n",
    "# Define initial condition\n",
    "x0 = 0\n",
    "\n",
    "# Time step\n",
    "dt = 0.001\n",
    "\n",
    "# Solve differential equation from time 0 to time T\n",
    "T = 5\n",
    "\n",
    "# Descretize time into equal steps\n",
    "t = np . linspace (0 , T , int ( T / dt )+1)\n",
    "\n",
    "# store the solution\n",
    "x = np . zeros (len (t))\n",
    "\n",
    "# define the inputs\n",
    "g_ex = np.zeros(len(t))\n",
    "g_in = np.zeros(len(t))\n",
    "\n",
    "g_ex[500:550] = 1\n",
    "g_in[800:900] = 1\n",
    "\n",
    "\n",
    "# Integrate the differential equation using Euler ’s method\n",
    "x[0] = x0\n",
    "for i in range(1 , len(t)):\n",
    "    x[i] = x [i-1] +  dt * f(x[i-1],g_ex[i],g_in[i])\n",
    "\n",
    "\n",
    "\n",
    "\n",
    "plt.plot(t,x)\n",
    "plt.show()\n",
    "\n",
    "  "
   ]
  },
  {
   "cell_type": "code",
   "execution_count": null,
   "metadata": {
    "collapsed": true
   },
   "outputs": [],
   "source": []
  }
 ],
 "metadata": {
  "kernelspec": {
   "display_name": "Python 3",
   "language": "python3",
   "name": "python3"
  },
  "language_info": {
   "codemirror_mode": {
    "name": "ipython",
    "version": 3
   },
   "file_extension": ".py",
   "mimetype": "text/x-python",
   "name": "python",
   "nbconvert_exporter": "python",
   "pygments_lexer": "ipython3",
   "version": "3.5.2"
  }
 },
 "nbformat": 4,
 "nbformat_minor": 2
}
